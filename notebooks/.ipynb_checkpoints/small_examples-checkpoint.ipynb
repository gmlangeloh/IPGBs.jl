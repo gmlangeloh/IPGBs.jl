{
 "cells": [
  {
   "cell_type": "code",
   "execution_count": null,
   "metadata": {},
   "outputs": [],
   "source": [
    "using IPGBs\n",
    "using IPGBs.Markov\n",
    "using IPGBs.FeasibleGraphs\n",
    "using IPGBs.IPInstances\n",
    "\n",
    "using Graphs\n",
    "using Random\n",
    "\n",
    "Random.seed!(0)\n",
    "\n",
    "function find_small_example(n :: Int, max_solutions :: Int, min_sinks :: Int)\n",
    "    ip = nothing\n",
    "    example_found = false\n",
    "    while !example_found\n",
    "        #Generate random binary knapsack with correlation between values and weights\n",
    "        A = rand(2:10, 1, n)\n",
    "        b = [round(Int, sum(A) / 2)]\n",
    "        C = zeros(Int, 1, n)\n",
    "        for i in 1:n\n",
    "            C[i] = rand(A[1, i] - 2:A[1, i] + 2)\n",
    "        end\n",
    "        u = [1 for _ in 1:n]\n",
    "        ip = IPInstance(A, b, C, u)\n",
    "        #Compute its feasibility graph with respect to the Markov basis\n",
    "        mb = markov_basis(ip)\n",
    "        g, _ = feasible_graph(ip, mb)\n",
    "        #Check whether the knapsack has at most max_solutions feasible points\n",
    "        #and the minimum number of sinks. Keep generating new knapsacks until this condition\n",
    "        #is satisfied.\n",
    "        if nv(g) <= max_solutions && count(d == 0 for d in outdegree(g)) >= min_sinks\n",
    "            example_found = true\n",
    "        end\n",
    "    end\n",
    "    return ip\n",
    "end"
   ]
  },
  {
   "cell_type": "code",
   "execution_count": 6,
   "metadata": {},
   "outputs": [],
   "source": [
    "ip = find_small_example(5, 50, 1)\n",
    "println(ip)"
   ]
  },
  {
   "cell_type": "code",
   "execution_count": null,
   "metadata": {},
   "outputs": [],
   "source": [
    "mb = markov_basis(ip)\n",
    "g, as = feasible_graph(ip, mb)\n",
    "plot_feasible_graph(g, as)"
   ]
  }
 ],
 "metadata": {
  "kernelspec": {
   "display_name": "Julia 1.9.2",
   "language": "julia",
   "name": "julia-1.9"
  },
  "language_info": {
   "file_extension": ".jl",
   "mimetype": "application/julia",
   "name": "julia",
   "version": "1.9.2"
  }
 },
 "nbformat": 4,
 "nbformat_minor": 2
}
