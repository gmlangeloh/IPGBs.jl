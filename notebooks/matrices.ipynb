{
 "cells": [
  {
   "cell_type": "code",
   "execution_count": 1,
   "metadata": {},
   "outputs": [
    {
     "name": "stdout",
     "output_type": "stream",
     "text": [
      "A = [-1 -4 0 4 -5 1; -5 -4 4 3 0 -1; 4 2 -3 -4 1 1; -5 -2 -2 1 -5 4; 2 -5 -1 -1 -1 0]\n"
     ]
    },
    {
     "data": {
      "text/plain": [
       "5×6 Matrix{Int64}:\n",
       " -1  -4   0   4  -5   1\n",
       " -5  -4   4   3   0  -1\n",
       "  4   2  -3  -4   1   1\n",
       " -5  -2  -2   1  -5   4\n",
       "  2  -5  -1  -1  -1   0"
      ]
     },
     "metadata": {},
     "output_type": "display_data"
    }
   ],
   "source": [
    "using LinearAlgebra\n",
    "using Random\n",
    "\n",
    "Random.seed!(0)\n",
    "A = rand(-5:5, 5, 6)\n",
    "@show A"
   ]
  },
  {
   "cell_type": "code",
   "execution_count": 2,
   "metadata": {},
   "outputs": [
    {
     "name": "stdout",
     "output_type": "stream",
     "text": [
      "1 -58\n",
      "2 -88\n",
      "3 180\n",
      "4 337\n",
      "5 -399\n",
      "6 353\n"
     ]
    }
   ],
   "source": [
    "function det_without_col(M, i)\n",
    "    N = M[:, 1:end .!= i]\n",
    "    return Int(round(det(N)))\n",
    "end\n",
    "\n",
    "for i in 1:size(A, 2)\n",
    "    println(i, \" \", det_without_col(A, i))\n",
    "end"
   ]
  },
  {
   "cell_type": "code",
   "execution_count": 3,
   "metadata": {},
   "outputs": [
    {
     "name": "stdout",
     "output_type": "stream",
     "text": [
      "1 2 -88\n",
      "1 2 -58\n",
      "1 3 -180\n",
      "1 3 -58\n",
      "1 4 337\n",
      "1 4 -58\n",
      "1 5 399\n",
      "1 5 -58\n",
      "1 6 353\n",
      "1 6 -58\n",
      "2 1 -58\n",
      "2 1 -88\n",
      "2 3 180\n",
      "2 3 -88\n",
      "2 4 -337\n",
      "2 4 -88\n",
      "2 5 -399\n",
      "2 5 -88\n",
      "2 6 -353\n",
      "2 6 -88\n",
      "3 1 58\n",
      "3 1 180\n",
      "3 2 -88\n",
      "3 2 180\n",
      "3 4 337\n",
      "3 4 180\n",
      "3 5 399\n",
      "3 5 180\n",
      "3 6 353\n",
      "3 6 180\n",
      "4 1 -58\n",
      "4 1 337\n",
      "4 2 88\n",
      "4 2 337\n",
      "4 3 180\n",
      "4 3 337\n",
      "4 5 -399\n",
      "4 5 337\n",
      "4 6 -353\n",
      "4 6 337\n",
      "5 1 58\n",
      "5 1 -399\n",
      "5 2 -88\n",
      "5 2 -399\n",
      "5 3 -180\n",
      "5 3 -399\n",
      "5 4 337\n",
      "5 4 -399\n",
      "5 6 353\n",
      "5 6 -399\n",
      "6 1 -58\n",
      "6 1 353\n",
      "6 2 88\n",
      "6 2 353\n",
      "6 3 180\n",
      "6 3 353\n",
      "6 4 -337\n",
      "6 4 353\n",
      "6 5 -399\n",
      "6 5 353\n"
     ]
    }
   ],
   "source": [
    "function det_without_col_replacing_col(M, i, j, col)\n",
    "    N = copy(M)\n",
    "    N[:, j] = col\n",
    "    N = N[:, 1:end .!= i]\n",
    "    return Int(round(det(N)))\n",
    "end\n",
    "\n",
    "for i in 1:size(A, 2)\n",
    "    for j in 1:size(A, 2)\n",
    "        if i == j\n",
    "            continue\n",
    "        end\n",
    "        println(i, \" \", j, \" \", det_without_col_replacing_col(A, i, j, A[:, i]))\n",
    "        println(i, \" \", j, \" \", det_without_col_replacing_col(A, i, j, A[:, j]))\n",
    "    end\n",
    "end"
   ]
  },
  {
   "cell_type": "code",
   "execution_count": 4,
   "metadata": {},
   "outputs": [
    {
     "name": "stdout",
     "output_type": "stream",
     "text": [
      "v = [58, -88, -180, 337, 399, 353]\n",
      "A * v = "
     ]
    },
    {
     "name": "stdout",
     "output_type": "stream",
     "text": [
      "[0, 0, 0, 0, 0]\n"
     ]
    },
    {
     "name": "stdout",
     "output_type": "stream",
     "text": [
      "v is in the kernel: true\n"
     ]
    }
   ],
   "source": [
    "#Now I'll try to use the determinantal formula to get a kernel vector directly\n",
    "v = [(-1)^i * det_without_col(A, i) for i in 1:size(A, 2)]\n",
    "@show v\n",
    "@show A * v\n",
    "println(\"v is in the kernel: \", all(isapprox.(A * v, 0.0, atol=1e-6)))"
   ]
  },
  {
   "attachments": {},
   "cell_type": "markdown",
   "metadata": {},
   "source": [
    "It looks like the determinantal formula given in Sturmfels' book for a kernel\n",
    "vector in a 1-dimensional kernel really does work. I'm no closer to proving that,\n",
    "though!\n",
    "\n",
    "On the bright side, my expansion of the determinants looks correct, as seen in the cell below. Now I just have to figure out what I can do with them..."
   ]
  },
  {
   "cell_type": "code",
   "execution_count": 5,
   "metadata": {},
   "outputs": [
    {
     "name": "stdout",
     "output_type": "stream",
     "text": [
      "-58\n",
      "-88\n",
      "\n",
      "-88\n",
      "-58\n",
      "0\n",
      "0\n",
      "0\n",
      "0\n"
     ]
    }
   ],
   "source": [
    "i = 1\n",
    "j = 2\n",
    "println(det_without_col(A, i))\n",
    "println(det_without_col(A, j))\n",
    "println()\n",
    "for k in 1:size(A, 2)\n",
    "    println(det_without_col_replacing_col(A, i, j, A[:, k]))\n",
    "end"
   ]
  },
  {
   "cell_type": "code",
   "execution_count": 9,
   "metadata": {},
   "outputs": [
    {
     "name": "stdout",
     "output_type": "stream",
     "text": [
      "dets = [-88 -58 0 0 0 0; 180 0 58 0 0 0; 0 180 -88 0 0 0; 337 0 0 -58 0 0; 0 337 0 88 0 0; 0 0 337 180 0 0; -399 0 0 0 58 0; 0 -399 0 0 -88 0; 0 0 -399 0 -180 0; 0 0 0 -399 337 0; 353 0 0 0 0 -58; 0 353 0 0 0 88; 0 0 353 0 0 180; 0 0 0 353 0 -337; 0 0 0 0 353 -399]\n"
     ]
    },
    {
     "data": {
      "text/plain": [
       "15×6 Matrix{Int64}:\n",
       "  -88   -58     0     0     0     0\n",
       "  180     0    58     0     0     0\n",
       "    0   180   -88     0     0     0\n",
       "  337     0     0   -58     0     0\n",
       "    0   337     0    88     0     0\n",
       "    0     0   337   180     0     0\n",
       " -399     0     0     0    58     0\n",
       "    0  -399     0     0   -88     0\n",
       "    0     0  -399     0  -180     0\n",
       "    0     0     0  -399   337     0\n",
       "  353     0     0     0     0   -58\n",
       "    0   353     0     0     0    88\n",
       "    0     0   353     0     0   180\n",
       "    0     0     0   353     0  -337\n",
       "    0     0     0     0   353  -399"
      ]
     },
     "metadata": {},
     "output_type": "display_data"
    }
   ],
   "source": [
    "using AbstractAlgebra\n",
    "\n",
    "num_pairs = binomial(size(A, 2), 2)\n",
    "dets = zeros(Int, num_pairs, size(A, 2))\n",
    "current_pair = 0\n",
    "for i in 1:size(A, 2)\n",
    "    for j in 1:(i-1)\n",
    "        if i == j\n",
    "            continue\n",
    "        end\n",
    "        current_pair += 1\n",
    "        dets[current_pair, i] = det_without_col_replacing_col(A, i, j, A[:, i])\n",
    "        dets[current_pair, j] = det_without_col_replacing_col(A, i, j, A[:, j])\n",
    "    end\n",
    "end\n",
    "@show dets\n",
    "#Mdets = matrix(ZZ, dets)\n",
    "#@show kernel(Mdets)"
   ]
  },
  {
   "attachments": {},
   "cell_type": "markdown",
   "metadata": {},
   "source": [
    "Ok, my idea of building a system of equations with all those dets doesn't look that\n",
    "bad actually! However, how do I solve it in general?"
   ]
  }
 ],
 "metadata": {
  "kernelspec": {
   "display_name": "Julia 1.8.0",
   "language": "julia",
   "name": "julia-1.8"
  },
  "language_info": {
   "file_extension": ".jl",
   "mimetype": "application/julia",
   "name": "julia",
   "version": "1.8.0"
  },
  "orig_nbformat": 4
 },
 "nbformat": 4,
 "nbformat_minor": 2
}
