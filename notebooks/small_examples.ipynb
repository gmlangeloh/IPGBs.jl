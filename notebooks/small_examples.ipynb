{
 "cells": [
  {
   "cell_type": "code",
   "execution_count": 17,
   "metadata": {},
   "outputs": [
    {
     "data": {
      "text/plain": [
       "find_small_example (generic function with 1 method)"
      ]
     },
     "execution_count": 17,
     "metadata": {},
     "output_type": "execute_result"
    }
   ],
   "source": [
    "using IPGBs\n",
    "using IPGBs.Markov\n",
    "using IPGBs.FeasibleGraphs\n",
    "using IPGBs.IPInstances\n",
    "\n",
    "using Graphs\n",
    "using Random\n",
    "\n",
    "Random.seed!(0)\n",
    "\n",
    "function find_small_example(n :: Int, max_solutions :: Int, min_sinks :: Int)\n",
    "    ip = nothing\n",
    "    example_found = false\n",
    "    while !example_found\n",
    "        #Generate random binary knapsack with correlation between values and weights\n",
    "        A = rand(2:10, 1, n)\n",
    "        b = [round(Int, sum(A) / 2)]\n",
    "        C = zeros(Int, 1, n)\n",
    "        for i in 1:n\n",
    "            C[i] = rand(A[1, i] - 2:A[1, i] + 2)\n",
    "        end\n",
    "        u = [1 for _ in 1:n]\n",
    "        ip = IPInstance(A, b, C, u)\n",
    "        #Compute its feasibility graph with respect to the Markov basis\n",
    "        mb = markov_basis(ip)\n",
    "        g, _ = feasible_graph(ip, mb)\n",
    "        #Check whether the knapsack has at most max_solutions feasible points\n",
    "        #and the minimum number of sinks. Keep generating new knapsacks until this condition\n",
    "        #is satisfied.\n",
    "        if nv(g) <= max_solutions && count(d == 0 for d in outdegree(g)) >= min_sinks\n",
    "            example_found = true\n",
    "        end\n",
    "    end\n",
    "    return ip\n",
    "end"
   ]
  },
  {
   "cell_type": "code",
   "execution_count": 23,
   "metadata": {},
   "outputs": [
    {
     "name": "stdout",
     "output_type": "stream",
     "text": [
      "min [-10.0 -12.0 -10.0 -6.0 -4.0 -8.0 -6.0 0.0 0.0 0.0 0.0 0.0 0.0 0.0 0.0] \n",
      "[8, 10, 10, 5, 5, 10, 6, 1, 0, 0, 0, 0, 0, 0, 0] = 27 \n",
      "[1, 0, 0, 0, 0, 0, 0, 0, 1, 0, 0, 0, 0, 0, 0] = 1 \n",
      "[0, 1, 0, 0, 0, 0, 0, 0, 0, 1, 0, 0, 0, 0, 0] = 1 \n",
      "[0, 0, 1, 0, 0, 0, 0, 0, 0, 0, 1, 0, 0, 0, 0] = 1 \n",
      "[0, 0, 0, 1, 0, 0, 0, 0, 0, 0, 0, 1, 0, 0, 0] = 1 \n",
      "[0, 0, 0, 0, 1, 0, 0, 0, 0, 0, 0, 0, 1, 0, 0] = 1 \n",
      "[0, 0, 0, 0, 0, 1, 0, 0, 0, 0, 0, 0, 0, 1, 0] = 1 \n",
      "[0, 0, 0, 0, 0, 0, 1, 0, 0, 0, 0, 0, 0, 0, 1] = 1 \n",
      "0 <= x1 <= 1\n",
      "0 <= x2 <= 1\n",
      "0 <= x3 <= 1\n",
      "0 <= x4 <= 1\n",
      "0 <= x5 <= 1\n",
      "0 <= x6 <= 1\n",
      "0 <= x7 <= 1\n",
      "\n"
     ]
    }
   ],
   "source": [
    "ip = find_small_example(7, 5000000, 1)\n",
    "println(ip)"
   ]
  },
  {
   "cell_type": "code",
   "execution_count": null,
   "metadata": {},
   "outputs": [],
   "source": [
    "mb = markov_basis(ip)\n",
    "plot_feasible_graph(ip, mb)"
   ]
  }
 ],
 "metadata": {
  "kernelspec": {
   "display_name": "Julia 1.9.2",
   "language": "julia",
   "name": "julia-1.9"
  },
  "language_info": {
   "file_extension": ".jl",
   "mimetype": "application/julia",
   "name": "julia",
   "version": "1.9.2"
  }
 },
 "nbformat": 4,
 "nbformat_minor": 4
}
