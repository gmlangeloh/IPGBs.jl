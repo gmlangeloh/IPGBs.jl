{
 "cells": [
  {
   "attachments": {},
   "cell_type": "markdown",
   "metadata": {},
   "source": [
    "Trying a hard knapsack instance found in Lasserre's book. It is very hard for\n",
    "branch-and-bound algorithms, but likely not for other possibilities, such as GBs.\n",
    "I want to verify this and potentially generate other instances with the same\n",
    "characteristics. This would be a nice experiment to show in my thesis."
   ]
  },
  {
   "cell_type": "code",
   "execution_count": 16,
   "metadata": {},
   "outputs": [
    {
     "name": "stdout",
     "output_type": "stream",
     "text": [
      "markov = [[-2, 5, -1, 0, 0], [-1, -4, 0, 1, 0], [1, 3, 1, 0, -1], [3, -2, 2, 0, -1]]\n",
      "gb = [[-2, 5, -1, 0, 0], [-1, -4, 0, 1, 0], [-1, -3, -1, 0, 1]]\n",
      "length(gb) = 3\n",
      "gb2 = Matrix{Int64}(undef, 0, 2)\n",
      "length(gb2) = 0\n"
     ]
    },
    {
     "data": {
      "text/plain": [
       "0"
      ]
     },
     "metadata": {},
     "output_type": "display_data"
    }
   ],
   "source": [
    "using IPGBs\n",
    "using IPGBs.FourTi2\n",
    "using JuMP\n",
    "\n",
    "model = Model()\n",
    "@variable(model, x[1:5] >= 0, Int)\n",
    "@objective(model, Min, 213x[1] - 1928x[2] - 11111x[3] - 2345x[4] + 9123x[5])\n",
    "@constraint(model, 12223x[1] + 12224x[2] + 36674x[3] + 61119x[4] + 85569x[5] == 89643482)\n",
    "\n",
    "gb = IPGBs.groebner_basis(model)\n",
    "@show gb\n",
    "@show length(gb)\n",
    "\n",
    "gb2 = IPGBs.FourTi2.groebner(model)\n",
    "@show gb2\n",
    "@show length(gb2)"
   ]
  },
  {
   "attachments": {},
   "cell_type": "markdown",
   "metadata": {},
   "source": [
    "The following instances were taken from Aardal, Lenstra - Hard Equality Constrained\n",
    "Integer Knapsacks (2004). They are supposedly hard for Branch-and-bound, and I think\n",
    "they're all easy for GBs and lattice methods.\n",
    "\n",
    "- (22/04) 4ti2 solves the cuww instances easily, but struggles with prob1 at least.\n",
    "I should try skipping this one to check whether 4ti2 will struggle with the rest\n",
    "of the prob instances as well! prob1 didn't terminate in 5h."
   ]
  },
  {
   "cell_type": "code",
   "execution_count": 26,
   "metadata": {},
   "outputs": [
    {
     "name": "stdout",
     "output_type": "stream",
     "text": [
      "cuww1 0\n",
      "cuww2 0\n"
     ]
    },
    {
     "name": "stdout",
     "output_type": "stream",
     "text": [
      "cuww3 0\n",
      "cuww4 0\n",
      "cuww5 0\n"
     ]
    }
   ],
   "source": [
    "cuww1 = [\"cuww1\", [12223 12224 36674 61119 85569], 89643481]\n",
    "cuww2 = [\"cuww2\", [12228 36679 36682 48908 61139 73365], 89716838]\n",
    "cuww3 = [\"cuww3\", [12137 24269 36405 36407 48545 60683], 58925134]\n",
    "cuww4 = [\"cuww4\", [13211 13212 39638 52844 66060 79268 92482], 104723595]\n",
    "cuww5 = [\"cuww5\", [13429 26850 26855 40280 40281 53711 53714 67141], 45094583]\n",
    "prob1 = [\"prob1\", [25067 49300 49717 62124 87608 88025 113673 119169], 33367335]\n",
    "prob2 = [\"prob2\", [11948 23330 30635 44197 92754 123389 136951 140745], 14215206]\n",
    "prob3 = [\"prob3\", [39559 61679 79625 99658 133404 137071 159757 173977], 58424799]\n",
    "prob4 = [\"prob4\", [48709 55893 62177 65919 86271 87692 102881 109765], 60575665]\n",
    "prob5 = [\"prob5\", [28637 48198 80330 91980 102221 135518 165564 176049], 62442884]\n",
    "prob6 = [\"prob6\", [20601 40429 42207 45415 53725 61919 64470 69340 78539 95043], 22382774]\n",
    "prob7 = [\"prob7\", [18902 26720 34538 34868 49201 49531 65167 66800 84069 137179], 27267751]\n",
    "prob8 = [\"prob8\", [17035 45529 48317 48506 86120 100178 112464 115819 125128 129688], 21733990]\n",
    "prob9 = [\"prob9\", [13719 20289 29067 60517 64354 65633 76969 102024 106036 119930], 13385099]\n",
    "prob10 = [\"prob10\", [45276 70778 86911 92634 97839 125941 134269 141033 147279 153525], 106925261]\n",
    "prob11 = [\"prob11\", [11615 27638 32124 48384 53542 56230 73104 73884 112951 130204], 577134]\n",
    "prob12 = [\"prob12\", [14770 32480 75923 86053 85747 91772 101240 115403 137390 147371], 944183]\n",
    "prob13 = [\"prob13\", [15167 28569 36170 55419 70945 74926 95821 109046 121581 137695], 765260]\n",
    "prob14 = [\"prob14\", [11828 14253 46209 52042 55987 72649 119704 129334 135589 138360], 680230]\n",
    "prob15 = [\"prob15\", [13128 37469 39391 41928 53433 59283 81669 95339 110593 131989], 663281]\n",
    "prob16 = [\"prob16\", [35113 36869 46647 53560 81518 85287 102780 115459 146791 147097], 1109710]\n",
    "prob17 = [\"prob17\", [14054 22184 29952 64696 92752 97364 118723 119355 122370 140050], 752109]\n",
    "prob18 = [\"prob18\", [20303 26239 33733 47223 55486 93776 119372 136158 136989 148851], 783879]\n",
    "prob19 = [\"prob19\", [20212 30662 31420 49259 49701 62688 74254 77244 139477 142101], 677347]\n",
    "prob20 = [\"prob20\", [32663 41286 44549 45674 95772 111887 117611 117763 141840 149740], 1037608]\n",
    "aardal_lenstra_instances = [cuww1, cuww2, cuww3, cuww4, cuww5, prob1, prob2, prob3, prob4, prob5,\n",
    "prob6, prob7, prob8, prob9, prob10, prob11, prob12, prob13, prob14, prob15,\n",
    "prob16, prob17, prob18, prob19, prob20]\n",
    "\n",
    "function run_instance(instance)\n",
    "    instance_name = instance[1]\n",
    "    a = instance[2]\n",
    "    b = instance[3]\n",
    "    n = length(a)\n",
    "    model = Model()\n",
    "    @variable(model, x[1:n] >= 0, Int)\n",
    "    @objective(model, Min, sum(x[i] for i in 1:n))\n",
    "    @constraint(model, a * x .== [b])\n",
    "    gb = IPGBs.FourTi2.groebner(model)\n",
    "    println(instance_name, \" \", length(gb))\n",
    "end\n",
    "\n",
    "for instance in aardal_lenstra_instances\n",
    "    run_instance(instance)\n",
    "end"
   ]
  }
 ],
 "metadata": {
  "kernelspec": {
   "display_name": "Julia 1.8.0",
   "language": "julia",
   "name": "julia-1.8"
  },
  "language_info": {
   "file_extension": ".jl",
   "mimetype": "application/julia",
   "name": "julia",
   "version": "1.8.0"
  },
  "orig_nbformat": 4
 },
 "nbformat": 4,
 "nbformat_minor": 2
}
