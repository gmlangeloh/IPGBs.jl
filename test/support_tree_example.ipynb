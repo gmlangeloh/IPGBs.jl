{
 "cells": [
  {
   "attachments": {},
   "cell_type": "markdown",
   "metadata": {},
   "source": [
    "Short code showing a support tree of a small GB."
   ]
  },
  {
   "cell_type": "code",
   "execution_count": 10,
   "metadata": {},
   "outputs": [
    {
     "name": "stdout",
     "output_type": "stream",
     "text": [
      "Max 3 x[1] + 15 x[2] + 6 x[3] + x[4] + 11 x[5] + 18 x[6]\n",
      "Subject to\n",
      " 9 x[1] + 2 x[2] + 18 x[3] + 2 x[4] + 14 x[5] + 3 x[6] ≤ 24.0\n",
      " x[1] ≥ 0.0\n",
      " x[2] ≥ 0.0\n",
      " x[3] ≥ 0.0\n",
      " x[4] ≥ 0.0\n",
      " x[5] ≥ 0.0\n",
      " x[6] ≥ 0.0\n",
      " x[1] integer\n",
      " x[2] integer\n",
      " x[3] integer\n",
      " x[4] integer\n",
      " x[5] integer\n",
      " x[6] integer\n",
      "\n"
     ]
    },
    {
     "name": "stdout",
     "output_type": "stream",
     "text": [
      "size(gb) = (8, 7)\n",
      "Support tree with 8 elements\n",
      "Node filter: Int64[]\n",
      "Node with 0 elements, 7 children\n",
      "End node.\n",
      "\n",
      "Child index: 3\n",
      "Node filter: [3]\n",
      "Node with 1 elements, 0 children\n",
      "[0, -9, 1, 0, 0, 0, 0]\n",
      "End node.\n",
      "\n",
      "Child index: 5\n",
      "Node filter: [5]\n",
      "Node with 1 elements, 0 children\n",
      "[0, -7, 0, 0, 1, 0, 0]\n",
      "End node.\n",
      "\n",
      "Child index: 6\n",
      "Node filter: [6]\n",
      "Node with 1 elements, 1 children\n",
      "[0, -3, 0, 0, 0, 2, 0]\n",
      "End node.\n",
      "\n",
      "Child index: 7\n",
      "Node filter: [6, 7]\n",
      "Node with 1 elements, 0 children\n",
      "[0, -2, 0, 0, 0, 1, 1]\n",
      "End node.\n",
      "\n",
      "Child index: 7\n",
      "Node filter: [7]\n",
      "Node with 1 elements, 0 children\n",
      "[0, -1, 0, 0, 0, 0, 2]\n",
      "End node.\n",
      "\n",
      "Child index: 4\n",
      "Node filter: [4]\n",
      "Node with 1 elements, 0 children\n",
      "[0, -1, 0, 1, 0, 0, 0]\n",
      "End node.\n",
      "\n",
      "Child index: 2\n",
      "Node filter: Int64[]\n",
      "Node with 0 elements, 1 children\n",
      "End node.\n",
      "\n",
      "Child index: 7\n",
      "Node filter: [2, 7]\n",
      "Node with 1 elements, 0 children\n",
      "[0, 1, 0, 0, 0, -1, 1]\n",
      "End node.\n",
      "\n",
      "Child index: 1\n",
      "Node filter: [1]\n",
      "Node with 1 elements, 0 children\n",
      "[1, -3, 0, 0, 0, -1, 0]\n",
      "End node.\n",
      "\n"
     ]
    }
   ],
   "source": [
    "using JuMP\n",
    "using IPGBs\n",
    "using IPGBs.SupportTrees\n",
    "using Random\n",
    "\n",
    "Random.seed!(0)\n",
    "n = 6\n",
    "A = rand(1:20, 1, n)\n",
    "b = Int(floor(sum(A) / 2))\n",
    "C = rand(1:20, n)\n",
    "model = Model()\n",
    "@variable(model, x[1:n] >= 0, Int)\n",
    "@objective(model, Max, C' * x)\n",
    "@constraint(model, A * x .<= b)\n",
    "println(model)\n",
    "gb = IPGBs.FourTi2.groebner(model)\n",
    "@show size(gb)\n",
    "gbrows = [gb[i, :] for i in 1:size(gb, 1)]\n",
    "tree = support_tree(gbrows)\n",
    "println(tree)"
   ]
  }
 ],
 "metadata": {
  "kernelspec": {
   "display_name": "Julia 1.8.0",
   "language": "julia",
   "name": "julia-1.8"
  },
  "language_info": {
   "file_extension": ".jl",
   "mimetype": "application/julia",
   "name": "julia",
   "version": "1.8.0"
  },
  "orig_nbformat": 4
 },
 "nbformat": 4,
 "nbformat_minor": 2
}
